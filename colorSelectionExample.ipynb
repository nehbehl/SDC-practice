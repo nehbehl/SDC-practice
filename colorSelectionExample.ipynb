{
 "cells": [
  {
   "cell_type": "code",
   "execution_count": 13,
   "metadata": {},
   "outputs": [
    {
     "name": "stdout",
     "output_type": "stream",
     "text": [
      "threshold\n",
      "[190, 210, 210]\n",
      "thr\n",
      "[[[122 185 229]\n",
      "  [122 185 229]\n",
      "  [123 186 230]\n",
      "  ...\n",
      "  [123 184 229]\n",
      "  [123 184 229]\n",
      "  [123 184 229]]\n",
      "\n",
      " [[122 185 229]\n",
      "  [122 185 229]\n",
      "  [122 185 229]\n",
      "  ...\n",
      "  [123 184 229]\n",
      "  [123 184 229]\n",
      "  [123 184 229]]\n",
      "\n",
      " [[122 185 229]\n",
      "  [122 185 229]\n",
      "  [122 185 229]\n",
      "  ...\n",
      "  [123 184 229]\n",
      "  [123 184 229]\n",
      "  [123 184 229]]\n",
      "\n",
      " ...\n",
      "\n",
      " [[154 166 154]\n",
      "  [156 168 156]\n",
      "  [153 165 153]\n",
      "  ...\n",
      "  [180 197 181]\n",
      "  [181 198 182]\n",
      "  [181 198 182]]\n",
      "\n",
      " [[162 174 164]\n",
      "  [160 172 162]\n",
      "  [152 164 154]\n",
      "  ...\n",
      "  [174 192 176]\n",
      "  [175 193 177]\n",
      "  [176 194 178]]\n",
      "\n",
      " [[156 168 158]\n",
      "  [148 160 150]\n",
      "  [137 149 139]\n",
      "  ...\n",
      "  [161 179 163]\n",
      "  [162 180 164]\n",
      "  [162 180 164]]]\n",
      "[[185 185 186 ... 184 184 184]\n",
      " [185 185 185 ... 184 184 184]\n",
      " [185 185 185 ... 184 184 184]\n",
      " ...\n",
      " [166 168 165 ... 197 198 198]\n",
      " [174 172 164 ... 192 193 194]\n",
      " [168 160 149 ... 179 180 180]]\n"
     ]
    },
    {
     "data": {
      "image/png": "[encoded data removed]",
      "text/plain": [
       "<Figure size 432x288 with 1 Axes>"
      ]
     },
     "metadata": {
      "needs_background": "light"
     },
     "output_type": "display_data"
    }
   ],
   "source": [
    "import matplotlib.pyplot as plt\n",
    "import matplotlib.image as mpimg\n",
    "import numpy as np\n",
    "\n",
    "# Read in the image\n",
    "image = mpimg.imread('test.jpg')\n",
    "\n",
    "# Grab the x and y size and make a copy of the image\n",
    "ysize = image.shape[0]\n",
    "xsize = image.shape[1]\n",
    "color_select = np.copy(image)\n",
    "\n",
    "# Define color selection criteria\n",
    "###### MODIFY THESE VARIABLES TO MAKE YOUR COLOR SELECTION\n",
    "red_threshold = 190\n",
    "green_threshold = 210\n",
    "blue_threshold = 210\n",
    "######\n",
    "\n",
    "rgb_threshold = [red_threshold, green_threshold, blue_threshold]\n",
    "\n",
    "print(\"threshold\")\n",
    "print(rgb_threshold)\n",
    "# Do a boolean or with the \"|\" character to identify\n",
    "# pixels below the thresholds\n",
    "thresholds = (image[:,:,0] < rgb_threshold[0]) | (image[:,:,1] < rgb_threshold[1]) | (image[:,:,2] < rgb_threshold[2])\n",
    "print(\"thr\")\n",
    "print(image)\n",
    "print(image[:,:,1])\n",
    "color_select[thresholds] = [0,0,0]\n",
    "\n",
    "# Display the image                 \n",
    "plt.imshow(color_select)\n",
    "\n",
    "# Uncomment the following code if you are running the code locally and wish to save the image\n",
    "mpimg.imsave(\"test-after.png\", color_select)\n"
   ]
  }
 ],
 "metadata": {
  "kernelspec": {
   "display_name": "Python 3",
   "language": "python",
   "name": "python3"
  },
  "language_info": {
   "codemirror_mode": {
    "name": "ipython",
    "version": 3
   },
   "file_extension": ".py",
   "mimetype": "text/x-python",
   "name": "python",
   "nbconvert_exporter": "python",
   "pygments_lexer": "ipython3",
   "version": "3.8.3"
  }
 },
 "nbformat": 4,
 "nbformat_minor": 4
}
